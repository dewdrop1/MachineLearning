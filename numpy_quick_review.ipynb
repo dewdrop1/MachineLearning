{
  "nbformat": 4,
  "nbformat_minor": 0,
  "metadata": {
    "colab": {
      "provenance": []
    },
    "kernelspec": {
      "name": "python3",
      "display_name": "Python 3"
    },
    "language_info": {
      "name": "python"
    }
  },
  "cells": [
    {
      "cell_type": "markdown",
      "source": [
        "\n",
        "## NumPy Quick Review\n",
        "\n"
      ],
      "metadata": {
        "id": "BrxMcJ_OkZzB"
      }
    },
    {
      "cell_type": "code",
      "source": [
        "import numpy as np\n",
        "import matplotlib.pyplot as plt"
      ],
      "metadata": {
        "id": "ZhxCOii-kbWm"
      },
      "execution_count": 1,
      "outputs": []
    },
    {
      "cell_type": "code",
      "source": [
        "A = np.array([1,2,3])\n",
        "print(A)"
      ],
      "metadata": {
        "colab": {
          "base_uri": "https://localhost:8080/"
        },
        "id": "VP7thZFfkf4F",
        "outputId": "18566ad9-6209-4116-bcce-b3bfad3df4f2"
      },
      "execution_count": 2,
      "outputs": [
        {
          "output_type": "stream",
          "name": "stdout",
          "text": [
            "[1 2 3]\n"
          ]
        }
      ]
    },
    {
      "cell_type": "code",
      "source": [
        "np.shape(A)"
      ],
      "metadata": {
        "colab": {
          "base_uri": "https://localhost:8080/"
        },
        "id": "j-MpQstaks6k",
        "outputId": "ea69e282-400f-418d-9f97-cd54e4aaa8a0"
      },
      "execution_count": 4,
      "outputs": [
        {
          "output_type": "execute_result",
          "data": {
            "text/plain": [
              "(3,)"
            ]
          },
          "metadata": {},
          "execution_count": 4
        }
      ]
    },
    {
      "cell_type": "code",
      "source": [
        "np.size(A)"
      ],
      "metadata": {
        "colab": {
          "base_uri": "https://localhost:8080/"
        },
        "id": "CAol7hCrlA4o",
        "outputId": "76c6f156-b738-4264-a5b7-99bb13d7df9d"
      },
      "execution_count": 5,
      "outputs": [
        {
          "output_type": "execute_result",
          "data": {
            "text/plain": [
              "3"
            ]
          },
          "metadata": {},
          "execution_count": 5
        }
      ]
    },
    {
      "cell_type": "code",
      "source": [
        "A.ndim"
      ],
      "metadata": {
        "colab": {
          "base_uri": "https://localhost:8080/"
        },
        "id": "h3d5oyBGsC33",
        "outputId": "6476cc55-d7c1-4adb-9f34-14fdd5821fcd"
      },
      "execution_count": 56,
      "outputs": [
        {
          "output_type": "execute_result",
          "data": {
            "text/plain": [
              "1"
            ]
          },
          "metadata": {},
          "execution_count": 56
        }
      ]
    },
    {
      "cell_type": "code",
      "source": [
        "type(A)"
      ],
      "metadata": {
        "colab": {
          "base_uri": "https://localhost:8080/"
        },
        "id": "UWfpiJkUsHdW",
        "outputId": "acd46d25-bddb-48b6-e93d-1fba2eaee1e7"
      },
      "execution_count": 57,
      "outputs": [
        {
          "output_type": "execute_result",
          "data": {
            "text/plain": [
              "numpy.ndarray"
            ]
          },
          "metadata": {},
          "execution_count": 57
        }
      ]
    },
    {
      "cell_type": "code",
      "source": [
        "A.size"
      ],
      "metadata": {
        "colab": {
          "base_uri": "https://localhost:8080/"
        },
        "id": "Ff3tAeTXsYKk",
        "outputId": "dca44129-a240-4b54-9390-5046b9d0ba8d"
      },
      "execution_count": 61,
      "outputs": [
        {
          "output_type": "execute_result",
          "data": {
            "text/plain": [
              "3"
            ]
          },
          "metadata": {},
          "execution_count": 61
        }
      ]
    },
    {
      "cell_type": "code",
      "source": [
        "A.dtype.name"
      ],
      "metadata": {
        "colab": {
          "base_uri": "https://localhost:8080/",
          "height": 36
        },
        "id": "4QRc5pUVsUdT",
        "outputId": "92350175-2b2d-4e5c-c443-c1e540c3f470"
      },
      "execution_count": 59,
      "outputs": [
        {
          "output_type": "execute_result",
          "data": {
            "text/plain": [
              "'int64'"
            ],
            "application/vnd.google.colaboratory.intrinsic+json": {
              "type": "string"
            }
          },
          "metadata": {},
          "execution_count": 59
        }
      ]
    },
    {
      "cell_type": "code",
      "source": [
        "A.itemsize"
      ],
      "metadata": {
        "colab": {
          "base_uri": "https://localhost:8080/"
        },
        "id": "4Gy0kdnTsKDG",
        "outputId": "714e7c46-0e20-4e72-9bf3-e9a029d72c0b"
      },
      "execution_count": 58,
      "outputs": [
        {
          "output_type": "execute_result",
          "data": {
            "text/plain": [
              "8"
            ]
          },
          "metadata": {},
          "execution_count": 58
        }
      ]
    },
    {
      "cell_type": "code",
      "source": [
        "B = np.arange(1,13)\n",
        "print(B)"
      ],
      "metadata": {
        "colab": {
          "base_uri": "https://localhost:8080/"
        },
        "id": "dHkkiEOClCxf",
        "outputId": "fd4190d8-d542-4093-89ef-e08f971f310f"
      },
      "execution_count": 7,
      "outputs": [
        {
          "output_type": "stream",
          "name": "stdout",
          "text": [
            "[ 1  2  3  4  5  6  7  8  9 10 11 12]\n"
          ]
        }
      ]
    },
    {
      "cell_type": "code",
      "source": [
        "B.reshape(3,4)"
      ],
      "metadata": {
        "colab": {
          "base_uri": "https://localhost:8080/"
        },
        "id": "Vb-OKPtulInJ",
        "outputId": "6de3edbb-4e09-4131-af98-5cdc2aca5364"
      },
      "execution_count": 8,
      "outputs": [
        {
          "output_type": "execute_result",
          "data": {
            "text/plain": [
              "array([[ 1,  2,  3,  4],\n",
              "       [ 5,  6,  7,  8],\n",
              "       [ 9, 10, 11, 12]])"
            ]
          },
          "metadata": {},
          "execution_count": 8
        }
      ]
    },
    {
      "cell_type": "code",
      "source": [
        "print(B)"
      ],
      "metadata": {
        "colab": {
          "base_uri": "https://localhost:8080/"
        },
        "id": "Td1bJL_WlLDT",
        "outputId": "2c891416-795d-47cf-9845-6d7aac065808"
      },
      "execution_count": 11,
      "outputs": [
        {
          "output_type": "stream",
          "name": "stdout",
          "text": [
            "[[ 1  2  3  4]\n",
            " [ 5  6  7  8]\n",
            " [ 9 10 11 12]]\n"
          ]
        }
      ]
    },
    {
      "cell_type": "code",
      "source": [
        "B = B.reshape(3,4)\n",
        "print(B)"
      ],
      "metadata": {
        "colab": {
          "base_uri": "https://localhost:8080/"
        },
        "id": "CI11Mm8plM0X",
        "outputId": "be87676c-2d73-49a8-985e-9dec061194d8"
      },
      "execution_count": 12,
      "outputs": [
        {
          "output_type": "stream",
          "name": "stdout",
          "text": [
            "[[ 1  2  3  4]\n",
            " [ 5  6  7  8]\n",
            " [ 9 10 11 12]]\n"
          ]
        }
      ]
    },
    {
      "cell_type": "code",
      "source": [
        "p = np.zeros((4,5))\n",
        "print(p)"
      ],
      "metadata": {
        "colab": {
          "base_uri": "https://localhost:8080/"
        },
        "id": "sZj_aQD7sqqp",
        "outputId": "f728feba-ebfd-46d1-e56f-332138f0c374"
      },
      "execution_count": 62,
      "outputs": [
        {
          "output_type": "stream",
          "name": "stdout",
          "text": [
            "[[0. 0. 0. 0. 0.]\n",
            " [0. 0. 0. 0. 0.]\n",
            " [0. 0. 0. 0. 0.]\n",
            " [0. 0. 0. 0. 0.]]\n"
          ]
        }
      ]
    },
    {
      "cell_type": "code",
      "source": [
        "q = np.ones((4,5))\n",
        "print(q)"
      ],
      "metadata": {
        "colab": {
          "base_uri": "https://localhost:8080/"
        },
        "id": "PLsELEC3swFb",
        "outputId": "fc90589c-1931-4180-ad9f-c56e36578db9"
      },
      "execution_count": 63,
      "outputs": [
        {
          "output_type": "stream",
          "name": "stdout",
          "text": [
            "[[1. 1. 1. 1. 1.]\n",
            " [1. 1. 1. 1. 1.]\n",
            " [1. 1. 1. 1. 1.]\n",
            " [1. 1. 1. 1. 1.]]\n"
          ]
        }
      ]
    },
    {
      "cell_type": "code",
      "source": [
        "r = np.empty((2,3))\n",
        "print(r)"
      ],
      "metadata": {
        "colab": {
          "base_uri": "https://localhost:8080/"
        },
        "id": "CChBmhfks1BO",
        "outputId": "cada8c20-565a-4763-cbb7-13e796cf953c"
      },
      "execution_count": 67,
      "outputs": [
        {
          "output_type": "stream",
          "name": "stdout",
          "text": [
            "[[2. 2. 2.]\n",
            " [2. 2. 2.]]\n"
          ]
        }
      ]
    },
    {
      "cell_type": "code",
      "source": [
        "s = np.arange(45,35,-1)\n",
        "print(s)\n",
        "print(s.dtype)\n",
        "print(s.itemsize)\n",
        "print(s.ndim)\n",
        "print(s.shape)\n",
        "print(s.size)\n",
        "print(type(s))"
      ],
      "metadata": {
        "colab": {
          "base_uri": "https://localhost:8080/"
        },
        "id": "TkEugvMmtGk_",
        "outputId": "a7e33178-b63a-4b8b-b7d1-1c96db8b750e"
      },
      "execution_count": 72,
      "outputs": [
        {
          "output_type": "stream",
          "name": "stdout",
          "text": [
            "[45 44 43 42 41 40 39 38 37 36]\n",
            "int64\n",
            "8\n",
            "1\n",
            "(10,)\n",
            "10\n",
            "<class 'numpy.ndarray'>\n"
          ]
        }
      ]
    },
    {
      "cell_type": "code",
      "source": [
        "np.linspace(0,2,9)"
      ],
      "metadata": {
        "colab": {
          "base_uri": "https://localhost:8080/"
        },
        "id": "nBmoWVRBt9PN",
        "outputId": "db1b8185-2ff1-429e-cf07-259c850f568a"
      },
      "execution_count": 73,
      "outputs": [
        {
          "output_type": "execute_result",
          "data": {
            "text/plain": [
              "array([0.  , 0.25, 0.5 , 0.75, 1.  , 1.25, 1.5 , 1.75, 2.  ])"
            ]
          },
          "metadata": {},
          "execution_count": 73
        }
      ]
    },
    {
      "cell_type": "code",
      "source": [
        "s = np.arange(100)\n",
        "print(s)\n",
        "print(s.dtype)\n",
        "print(s.itemsize)\n",
        "print(s.ndim)\n",
        "print(s.shape)\n",
        "print(s.size)\n",
        "print(type(s))"
      ],
      "metadata": {
        "colab": {
          "base_uri": "https://localhost:8080/"
        },
        "id": "Z8UgAtdAuOxw",
        "outputId": "60239ada-7c1e-4963-a66b-e84a8a95c447"
      },
      "execution_count": 76,
      "outputs": [
        {
          "output_type": "stream",
          "name": "stdout",
          "text": [
            "[ 0  1  2  3  4  5  6  7  8  9 10 11 12 13 14 15 16 17 18 19 20 21 22 23\n",
            " 24 25 26 27 28 29 30 31 32 33 34 35 36 37 38 39 40 41 42 43 44 45 46 47\n",
            " 48 49 50 51 52 53 54 55 56 57 58 59 60 61 62 63 64 65 66 67 68 69 70 71\n",
            " 72 73 74 75 76 77 78 79 80 81 82 83 84 85 86 87 88 89 90 91 92 93 94 95\n",
            " 96 97 98 99]\n",
            "int64\n",
            "8\n",
            "1\n",
            "(100,)\n",
            "100\n",
            "<class 'numpy.ndarray'>\n"
          ]
        }
      ]
    },
    {
      "cell_type": "code",
      "source": [
        "s = s.reshape(5,20)\n",
        "print(s)\n",
        "print(s.dtype)\n",
        "print(s.itemsize)\n",
        "print(s.ndim)\n",
        "print(s.shape)\n",
        "print(s.size)\n",
        "print(type(s))"
      ],
      "metadata": {
        "colab": {
          "base_uri": "https://localhost:8080/"
        },
        "id": "JejnHJaduh4S",
        "outputId": "66e0b859-d791-492d-f471-108abe7ea452"
      },
      "execution_count": 79,
      "outputs": [
        {
          "output_type": "stream",
          "name": "stdout",
          "text": [
            "[[ 0  1  2  3  4  5  6  7  8  9 10 11 12 13 14 15 16 17 18 19]\n",
            " [20 21 22 23 24 25 26 27 28 29 30 31 32 33 34 35 36 37 38 39]\n",
            " [40 41 42 43 44 45 46 47 48 49 50 51 52 53 54 55 56 57 58 59]\n",
            " [60 61 62 63 64 65 66 67 68 69 70 71 72 73 74 75 76 77 78 79]\n",
            " [80 81 82 83 84 85 86 87 88 89 90 91 92 93 94 95 96 97 98 99]]\n",
            "int64\n",
            "8\n",
            "2\n",
            "(5, 20)\n",
            "100\n",
            "<class 'numpy.ndarray'>\n"
          ]
        }
      ]
    },
    {
      "cell_type": "code",
      "source": [
        "# To force numPy to print the entire array\n",
        "import sys\n",
        "np.set_printoptions(threshold=sys.maxsize)"
      ],
      "metadata": {
        "id": "Qw1eSIL3u7FM"
      },
      "execution_count": 81,
      "outputs": []
    },
    {
      "cell_type": "markdown",
      "source": [
        "## Basic Operations"
      ],
      "metadata": {
        "id": "WjVIWOaZvHu7"
      }
    },
    {
      "cell_type": "code",
      "source": [
        "a = np.array([2,3,4,5,6])\n",
        "b = a"
      ],
      "metadata": {
        "id": "01lLIUMhvJpu"
      },
      "execution_count": 82,
      "outputs": []
    },
    {
      "cell_type": "code",
      "source": [
        "print(a ** 2)\n",
        "print(a)\n",
        "print(b)\n",
        "a = a ** 2\n",
        "print(a)\n",
        "print(b)\n",
        "print(a-b)\n",
        "print(a+b)\n",
        "print(a)\n",
        "print(b)"
      ],
      "metadata": {
        "colab": {
          "base_uri": "https://localhost:8080/"
        },
        "id": "wWFSlbixvZHb",
        "outputId": "ca12c8ea-b1bd-4258-cc1e-056f307c32a1"
      },
      "execution_count": 86,
      "outputs": [
        {
          "output_type": "stream",
          "name": "stdout",
          "text": [
            "[  16   81  256  625 1296]\n",
            "[ 4  9 16 25 36]\n",
            "[2 3 4 5 6]\n",
            "[  16   81  256  625 1296]\n",
            "[2 3 4 5 6]\n",
            "[  14   78  252  620 1290]\n",
            "[  18   84  260  630 1302]\n",
            "[  16   81  256  625 1296]\n",
            "[2 3 4 5 6]\n"
          ]
        }
      ]
    },
    {
      "cell_type": "markdown",
      "source": [
        "### Random generator"
      ],
      "metadata": {
        "id": "bYaP6piBwXid"
      }
    },
    {
      "cell_type": "code",
      "source": [
        "rg = np.random.default_rng(1)\n",
        "s = rg.random((2,3))\n",
        "print(s)\n",
        "print(s.dtype)\n",
        "print(s.itemsize)\n",
        "print(s.ndim)\n",
        "print(s.shape)\n",
        "print(s.size)\n",
        "print(type(s))"
      ],
      "metadata": {
        "colab": {
          "base_uri": "https://localhost:8080/"
        },
        "id": "J98fRL3mveak",
        "outputId": "d6f3b59d-8386-462e-9807-23c4f0047b76"
      },
      "execution_count": 87,
      "outputs": [
        {
          "output_type": "stream",
          "name": "stdout",
          "text": [
            "[[0.51182162 0.9504637  0.14415961]\n",
            " [0.94864945 0.31183145 0.42332645]]\n",
            "float64\n",
            "8\n",
            "2\n",
            "(2, 3)\n",
            "6\n",
            "<class 'numpy.ndarray'>\n"
          ]
        }
      ]
    },
    {
      "cell_type": "code",
      "source": [
        "# e^1, e^2, e^3, e^4, e^5\n",
        "s = np.array([1,2,3,4,5])\n",
        "np.exp(s)"
      ],
      "metadata": {
        "colab": {
          "base_uri": "https://localhost:8080/"
        },
        "id": "vi_qoWXiw15k",
        "outputId": "5dc77f7a-2cfb-41c6-a0c2-21ac5785ec85"
      },
      "execution_count": 90,
      "outputs": [
        {
          "output_type": "execute_result",
          "data": {
            "text/plain": [
              "array([  2.71828183,   7.3890561 ,  20.08553692,  54.59815003,\n",
              "       148.4131591 ])"
            ]
          },
          "metadata": {},
          "execution_count": 90
        }
      ]
    },
    {
      "cell_type": "code",
      "source": [
        "print(s)\n",
        "print(s.sum())\n",
        "print(s.min())\n",
        "print(s.max())"
      ],
      "metadata": {
        "colab": {
          "base_uri": "https://localhost:8080/"
        },
        "id": "jVRb6gcVxPdC",
        "outputId": "d7252ce9-3617-40df-a41f-ec1ab00b5290"
      },
      "execution_count": 92,
      "outputs": [
        {
          "output_type": "stream",
          "name": "stdout",
          "text": [
            "[1 2 3 4 5]\n",
            "15\n",
            "1\n",
            "5\n"
          ]
        }
      ]
    },
    {
      "cell_type": "code",
      "source": [
        "s = np.array([4,9,25,36,49,64])\n",
        "print(s)\n",
        "np.sqrt(s)\n",
        "print(s)"
      ],
      "metadata": {
        "colab": {
          "base_uri": "https://localhost:8080/"
        },
        "id": "s_pUV1B8xfSU",
        "outputId": "290ac2e0-6e44-4a7c-9808-866699c2e33d"
      },
      "execution_count": 95,
      "outputs": [
        {
          "output_type": "stream",
          "name": "stdout",
          "text": [
            "[ 4  9 25 36 49 64]\n",
            "[ 4  9 25 36 49 64]\n"
          ]
        }
      ]
    },
    {
      "cell_type": "markdown",
      "source": [
        "### Indexing and Slicing"
      ],
      "metadata": {
        "id": "eTSDF3WNxyYc"
      }
    },
    {
      "cell_type": "code",
      "source": [
        "a = np.arange(15).reshape((5,3))"
      ],
      "metadata": {
        "id": "9Hif9Z3Jx2c4"
      },
      "execution_count": 104,
      "outputs": []
    },
    {
      "cell_type": "code",
      "source": [
        "print(a)"
      ],
      "metadata": {
        "colab": {
          "base_uri": "https://localhost:8080/"
        },
        "id": "6AIWPQXVyRYW",
        "outputId": "ef4f285d-8cf1-4446-b814-5bdd6941b919"
      },
      "execution_count": 105,
      "outputs": [
        {
          "output_type": "stream",
          "name": "stdout",
          "text": [
            "[[ 0  1  2]\n",
            " [ 3  4  5]\n",
            " [ 6  7  8]\n",
            " [ 9 10 11]\n",
            " [12 13 14]]\n"
          ]
        }
      ]
    },
    {
      "cell_type": "code",
      "source": [
        "# Rows 2 and 3 and all columns\n",
        "print(a[2:4])\n",
        "# Rows 2 and 3 and column 1 only\n",
        "print(a[2:4,1])\n",
        "# Replace rows 2 and 3 column 0 with 1000\n",
        "a[2:4, 0] = 1000\n",
        "print(a)"
      ],
      "metadata": {
        "colab": {
          "base_uri": "https://localhost:8080/"
        },
        "id": "h4k4q4BiyS84",
        "outputId": "7a864f95-c34b-427e-f1fe-e59b90c0a326"
      },
      "execution_count": 108,
      "outputs": [
        {
          "output_type": "stream",
          "name": "stdout",
          "text": [
            "[[ 6  7  8]\n",
            " [ 9 10 11]]\n",
            "[ 7 10]\n",
            "[[   0    1    2]\n",
            " [   3    4    5]\n",
            " [1000    7    8]\n",
            " [1000   10   11]\n",
            " [  12   13   14]]\n"
          ]
        }
      ]
    },
    {
      "cell_type": "code",
      "source": [
        "print(a)"
      ],
      "metadata": {
        "colab": {
          "base_uri": "https://localhost:8080/"
        },
        "id": "ALm8nr9GzM1q",
        "outputId": "981a43cd-d37a-49a9-861b-3a403aa067e6"
      },
      "execution_count": 109,
      "outputs": [
        {
          "output_type": "stream",
          "name": "stdout",
          "text": [
            "[[   0    1    2]\n",
            " [   3    4    5]\n",
            " [1000    7    8]\n",
            " [1000   10   11]\n",
            " [  12   13   14]]\n"
          ]
        }
      ]
    },
    {
      "cell_type": "code",
      "source": [
        "a.sum(axis=0)"
      ],
      "metadata": {
        "colab": {
          "base_uri": "https://localhost:8080/"
        },
        "id": "M5qx5tMtzOuv",
        "outputId": "f0a2724e-d0e6-470e-dc9c-f7b753b90e54"
      },
      "execution_count": 110,
      "outputs": [
        {
          "output_type": "execute_result",
          "data": {
            "text/plain": [
              "array([2015,   35,   40])"
            ]
          },
          "metadata": {},
          "execution_count": 110
        }
      ]
    },
    {
      "cell_type": "code",
      "source": [
        "a.sum(axis=1)"
      ],
      "metadata": {
        "colab": {
          "base_uri": "https://localhost:8080/"
        },
        "id": "-EaDueXWzazY",
        "outputId": "e3f9de18-1fcd-4263-8f5b-48e9ea4c3967"
      },
      "execution_count": 111,
      "outputs": [
        {
          "output_type": "execute_result",
          "data": {
            "text/plain": [
              "array([   3,   12, 1015, 1021,   39])"
            ]
          },
          "metadata": {},
          "execution_count": 111
        }
      ]
    },
    {
      "cell_type": "code",
      "source": [
        "print(a)"
      ],
      "metadata": {
        "colab": {
          "base_uri": "https://localhost:8080/"
        },
        "id": "vVBAKqqbzm9s",
        "outputId": "8a0c8f85-53d1-4e74-f7ad-e41738c38a57"
      },
      "execution_count": 112,
      "outputs": [
        {
          "output_type": "stream",
          "name": "stdout",
          "text": [
            "[[   0    1    2]\n",
            " [   3    4    5]\n",
            " [1000    7    8]\n",
            " [1000   10   11]\n",
            " [  12   13   14]]\n"
          ]
        }
      ]
    },
    {
      "cell_type": "code",
      "source": [
        "print(a[::-1,::-1])"
      ],
      "metadata": {
        "colab": {
          "base_uri": "https://localhost:8080/"
        },
        "id": "EkRtHLfGzo0B",
        "outputId": "43d8454e-67ad-4485-f71d-e57c05a659ab"
      },
      "execution_count": 114,
      "outputs": [
        {
          "output_type": "stream",
          "name": "stdout",
          "text": [
            "[[  14   13   12]\n",
            " [  11   10 1000]\n",
            " [   8    7 1000]\n",
            " [   5    4    3]\n",
            " [   2    1    0]]\n"
          ]
        }
      ]
    },
    {
      "cell_type": "code",
      "source": [
        "print(a)"
      ],
      "metadata": {
        "colab": {
          "base_uri": "https://localhost:8080/"
        },
        "id": "YMktS_eoz60Q",
        "outputId": "10e21bdb-0a1a-44aa-c01f-73b0ae8d609e"
      },
      "execution_count": 115,
      "outputs": [
        {
          "output_type": "stream",
          "name": "stdout",
          "text": [
            "[[   0    1    2]\n",
            " [   3    4    5]\n",
            " [1000    7    8]\n",
            " [1000   10   11]\n",
            " [  12   13   14]]\n"
          ]
        }
      ]
    },
    {
      "cell_type": "code",
      "source": [
        "# Last row\n",
        "print(a[-1])\n",
        "# Last column\n",
        "print(a[:,-1])\n",
        "# second to last column\n",
        "print(a[:,-2])"
      ],
      "metadata": {
        "colab": {
          "base_uri": "https://localhost:8080/"
        },
        "id": "r-LfdKkez8za",
        "outputId": "de7f45ac-d6b8-4848-ab2e-6a31c5b698d7"
      },
      "execution_count": 121,
      "outputs": [
        {
          "output_type": "stream",
          "name": "stdout",
          "text": [
            "[12 13 14]\n",
            "[ 2  5  8 11 14]\n",
            "[ 1  4  7 10 13]\n"
          ]
        }
      ]
    },
    {
      "cell_type": "markdown",
      "source": [
        "### Vector Stacking"
      ],
      "metadata": {
        "id": "0yGlVc0L1_7d"
      }
    },
    {
      "cell_type": "code",
      "source": [
        "x = np.array([2,3,4,5])\n",
        "y = np.array([12,13,14,15])\n",
        "print(np.vstack([x,y]))\n",
        "print(np.hstack([x,y]))"
      ],
      "metadata": {
        "colab": {
          "base_uri": "https://localhost:8080/"
        },
        "id": "ER6Qjzl21uAr",
        "outputId": "f660a6b4-d264-4c28-c4b9-9a46fe48e22d"
      },
      "execution_count": 124,
      "outputs": [
        {
          "output_type": "stream",
          "name": "stdout",
          "text": [
            "[[ 2  3  4  5]\n",
            " [12 13 14 15]]\n",
            "[ 2  3  4  5 12 13 14 15]\n"
          ]
        }
      ]
    },
    {
      "cell_type": "markdown",
      "source": [
        "### Histograms"
      ],
      "metadata": {
        "id": "J8HDdCVO2Yms"
      }
    },
    {
      "cell_type": "code",
      "source": [
        "s = np.array([1,2,2,3,3,3,4,4,5])\n",
        "plt.hist(s, bins=10)"
      ],
      "metadata": {
        "colab": {
          "base_uri": "https://localhost:8080/",
          "height": 482
        },
        "id": "n350hEoF2azx",
        "outputId": "f9a57fe5-c8a3-4cd3-82f9-9bdf22d7e809"
      },
      "execution_count": 132,
      "outputs": [
        {
          "output_type": "execute_result",
          "data": {
            "text/plain": [
              "(array([1., 0., 2., 0., 0., 3., 0., 2., 0., 1.]),\n",
              " array([1. , 1.4, 1.8, 2.2, 2.6, 3. , 3.4, 3.8, 4.2, 4.6, 5. ]),\n",
              " <BarContainer object of 10 artists>)"
            ]
          },
          "metadata": {},
          "execution_count": 132
        },
        {
          "output_type": "display_data",
          "data": {
            "text/plain": [
              "<Figure size 640x480 with 1 Axes>"
            ],
            "image/png": "[encoded data removed]"
          },
          "metadata": {}
        }
      ]
    },
    {
      "cell_type": "markdown",
      "source": [
        "### Matrix product\n",
        "\n",
        "Both of these two notations yield the same result\n",
        "\n",
        "A @ B\n",
        "\n",
        "A.dot(B)"
      ],
      "metadata": {
        "id": "Xa1oYIJSluth"
      }
    },
    {
      "cell_type": "code",
      "source": [
        "# Matrix Product\n",
        "C = A @ B\n",
        "print(C)"
      ],
      "metadata": {
        "colab": {
          "base_uri": "https://localhost:8080/"
        },
        "id": "HTJ2V8PtlTax",
        "outputId": "033d3f24-fb67-478f-ba0d-25594a5d8b11"
      },
      "execution_count": 15,
      "outputs": [
        {
          "output_type": "stream",
          "name": "stdout",
          "text": [
            "[38 44 50 56]\n"
          ]
        }
      ]
    },
    {
      "cell_type": "code",
      "source": [
        "D = A.dot(B)\n",
        "print(D)"
      ],
      "metadata": {
        "colab": {
          "base_uri": "https://localhost:8080/"
        },
        "id": "4IZucCAvlmmL",
        "outputId": "0aa0767a-ccf7-45bd-8d32-51020f86c13a"
      },
      "execution_count": 16,
      "outputs": [
        {
          "output_type": "stream",
          "name": "stdout",
          "text": [
            "[38 44 50 56]\n"
          ]
        }
      ]
    },
    {
      "cell_type": "code",
      "source": [
        "X = np.arange(1,13).reshape(6,2)\n",
        "print(X)"
      ],
      "metadata": {
        "colab": {
          "base_uri": "https://localhost:8080/"
        },
        "id": "qfrGCm5TnmfT",
        "outputId": "d9925e49-2e14-42ec-f187-b2b125a36d79"
      },
      "execution_count": 26,
      "outputs": [
        {
          "output_type": "stream",
          "name": "stdout",
          "text": [
            "[[ 1  2]\n",
            " [ 3  4]\n",
            " [ 5  6]\n",
            " [ 7  8]\n",
            " [ 9 10]\n",
            " [11 12]]\n"
          ]
        }
      ]
    },
    {
      "cell_type": "code",
      "source": [
        "Y = np.arange(11,23).reshape(6,2)\n",
        "print(Y)"
      ],
      "metadata": {
        "colab": {
          "base_uri": "https://localhost:8080/"
        },
        "id": "oZQxkLr7nxbP",
        "outputId": "d3da7e95-44aa-47e7-d2e2-6a3887f7472f"
      },
      "execution_count": 27,
      "outputs": [
        {
          "output_type": "stream",
          "name": "stdout",
          "text": [
            "[[11 12]\n",
            " [13 14]\n",
            " [15 16]\n",
            " [17 18]\n",
            " [19 20]\n",
            " [21 22]]\n"
          ]
        }
      ]
    },
    {
      "cell_type": "code",
      "source": [
        "Z = X.dot(Y.T)\n",
        "print(Z)"
      ],
      "metadata": {
        "colab": {
          "base_uri": "https://localhost:8080/"
        },
        "id": "phGqkgJHn09t",
        "outputId": "9b18d5c5-2662-487f-ba8b-5e8f394ba614"
      },
      "execution_count": 31,
      "outputs": [
        {
          "output_type": "stream",
          "name": "stdout",
          "text": [
            "[[ 35  41  47  53  59  65]\n",
            " [ 81  95 109 123 137 151]\n",
            " [127 149 171 193 215 237]\n",
            " [173 203 233 263 293 323]\n",
            " [219 257 295 333 371 409]\n",
            " [265 311 357 403 449 495]]\n"
          ]
        }
      ]
    },
    {
      "cell_type": "markdown",
      "source": [
        "Element-wise Addition"
      ],
      "metadata": {
        "id": "z8MKvBsCmD3h"
      }
    },
    {
      "cell_type": "code",
      "source": [
        "A = np.arange(1,13).reshape(6,2)\n",
        "print(A)"
      ],
      "metadata": {
        "colab": {
          "base_uri": "https://localhost:8080/"
        },
        "id": "7OAnhsXVmEMi",
        "outputId": "885b19a8-1271-4fa2-82bd-6c513fed75fb"
      },
      "execution_count": 17,
      "outputs": [
        {
          "output_type": "stream",
          "name": "stdout",
          "text": [
            "[[ 1  2]\n",
            " [ 3  4]\n",
            " [ 5  6]\n",
            " [ 7  8]\n",
            " [ 9 10]\n",
            " [11 12]]\n"
          ]
        }
      ]
    },
    {
      "cell_type": "code",
      "source": [
        "B = np.arange(11,23).reshape(6,2)\n",
        "print(B)"
      ],
      "metadata": {
        "colab": {
          "base_uri": "https://localhost:8080/"
        },
        "id": "QadATCcamMsT",
        "outputId": "4531907f-bbfa-4a21-c606-939a13372988"
      },
      "execution_count": 18,
      "outputs": [
        {
          "output_type": "stream",
          "name": "stdout",
          "text": [
            "[[11 12]\n",
            " [13 14]\n",
            " [15 16]\n",
            " [17 18]\n",
            " [19 20]\n",
            " [21 22]]\n"
          ]
        }
      ]
    },
    {
      "cell_type": "code",
      "source": [
        "print(A+B)"
      ],
      "metadata": {
        "colab": {
          "base_uri": "https://localhost:8080/"
        },
        "id": "AS8C6hhimSBK",
        "outputId": "783ad13f-6dd8-4a2d-d856-9ac69776aa48"
      },
      "execution_count": 19,
      "outputs": [
        {
          "output_type": "stream",
          "name": "stdout",
          "text": [
            "[[12 14]\n",
            " [16 18]\n",
            " [20 22]\n",
            " [24 26]\n",
            " [28 30]\n",
            " [32 34]]\n"
          ]
        }
      ]
    },
    {
      "cell_type": "markdown",
      "source": [
        "Element-wise Multiplication"
      ],
      "metadata": {
        "id": "3rserEVpm39u"
      }
    },
    {
      "cell_type": "code",
      "source": [
        "print(A*B)"
      ],
      "metadata": {
        "colab": {
          "base_uri": "https://localhost:8080/"
        },
        "id": "a9KBTHbmmVMN",
        "outputId": "a26a5661-5e84-4322-f898-0b62fb641279"
      },
      "execution_count": 20,
      "outputs": [
        {
          "output_type": "stream",
          "name": "stdout",
          "text": [
            "[[ 11  24]\n",
            " [ 39  56]\n",
            " [ 75  96]\n",
            " [119 144]\n",
            " [171 200]\n",
            " [231 264]]\n"
          ]
        }
      ]
    },
    {
      "cell_type": "markdown",
      "source": [
        "## Matrix Operations"
      ],
      "metadata": {
        "id": "jkVmZ9R7o6OK"
      }
    },
    {
      "cell_type": "code",
      "source": [
        "A = np.array([1,2,3])\n",
        "B = np.arange(1,13).reshape(3,4)\n",
        "C = np.ones((2,3))\n",
        "D = np.eye(3)\n",
        "E = np.zeros((2,3))"
      ],
      "metadata": {
        "id": "zHTMzsl2o5OZ"
      },
      "execution_count": 34,
      "outputs": []
    },
    {
      "cell_type": "code",
      "source": [
        "print(A)\n",
        "print(B)\n",
        "print(C)\n",
        "print(D)\n",
        "print(E)"
      ],
      "metadata": {
        "colab": {
          "base_uri": "https://localhost:8080/"
        },
        "id": "U6xalRKWpHgY",
        "outputId": "0754658e-5189-4583-ad8b-cb07a19fe83a"
      },
      "execution_count": 35,
      "outputs": [
        {
          "output_type": "stream",
          "name": "stdout",
          "text": [
            "[1 2 3]\n",
            "[[ 1  2  3  4]\n",
            " [ 5  6  7  8]\n",
            " [ 9 10 11 12]]\n",
            "[[1. 1. 1.]\n",
            " [1. 1. 1.]]\n",
            "[[1. 0. 0.]\n",
            " [0. 1. 0.]\n",
            " [0. 0. 1.]]\n",
            "[[0. 0. 0.]\n",
            " [0. 0. 0.]]\n"
          ]
        }
      ]
    },
    {
      "cell_type": "code",
      "source": [
        "# 2A + 1\n",
        "\n",
        "print(2*A+1)"
      ],
      "metadata": {
        "colab": {
          "base_uri": "https://localhost:8080/"
        },
        "id": "2JEyVk0ypWDz",
        "outputId": "5bd0fcd0-041b-4bfd-9cc2-730544ce18a6"
      },
      "execution_count": 36,
      "outputs": [
        {
          "output_type": "stream",
          "name": "stdout",
          "text": [
            "[3 5 7]\n"
          ]
        }
      ]
    },
    {
      "cell_type": "code",
      "source": [
        "# Sum of the rows of B\n",
        "\n",
        "print(B.sum(axis=1))"
      ],
      "metadata": {
        "colab": {
          "base_uri": "https://localhost:8080/"
        },
        "id": "DL41-Nf8peSc",
        "outputId": "fdfc064c-5e9d-49e9-8b18-dfdb7af0a770"
      },
      "execution_count": 38,
      "outputs": [
        {
          "output_type": "stream",
          "name": "stdout",
          "text": [
            "[10 26 42]\n"
          ]
        }
      ]
    },
    {
      "cell_type": "code",
      "source": [
        "# Sum of the columns of B\n",
        "\n",
        "print(B.sum(axis=0))"
      ],
      "metadata": {
        "colab": {
          "base_uri": "https://localhost:8080/"
        },
        "id": "CFZmdLHVp9p4",
        "outputId": "9f32f1c2-08d9-4a0d-af9c-089a16109b90"
      },
      "execution_count": 39,
      "outputs": [
        {
          "output_type": "stream",
          "name": "stdout",
          "text": [
            "[15 18 21 24]\n"
          ]
        }
      ]
    },
    {
      "cell_type": "code",
      "source": [
        "print(B)"
      ],
      "metadata": {
        "colab": {
          "base_uri": "https://localhost:8080/"
        },
        "id": "v_yx40t3qPDB",
        "outputId": "107f3707-58ca-4625-dc3b-2a341afcfcb6"
      },
      "execution_count": 41,
      "outputs": [
        {
          "output_type": "stream",
          "name": "stdout",
          "text": [
            "[[ 1  2  3  4]\n",
            " [ 5  6  7  8]\n",
            " [ 9 10 11 12]]\n"
          ]
        }
      ]
    },
    {
      "cell_type": "code",
      "source": [
        "# Number of elements of B greater than 5\n",
        "\n",
        "print(B[B>5].size)"
      ],
      "metadata": {
        "colab": {
          "base_uri": "https://localhost:8080/"
        },
        "id": "1XzoY7rXqETf",
        "outputId": "fcc430e2-0325-4fdb-8770-227cad708382"
      },
      "execution_count": 50,
      "outputs": [
        {
          "output_type": "stream",
          "name": "stdout",
          "text": [
            "7\n"
          ]
        }
      ]
    },
    {
      "cell_type": "code",
      "source": [
        "# C + C\n",
        "\n",
        "print(C+C)"
      ],
      "metadata": {
        "colab": {
          "base_uri": "https://localhost:8080/"
        },
        "id": "RBn-M86-q4ut",
        "outputId": "2643dac4-5d51-4eb2-f7ab-439cfdd3256c"
      },
      "execution_count": 51,
      "outputs": [
        {
          "output_type": "stream",
          "name": "stdout",
          "text": [
            "[[2. 2. 2.]\n",
            " [2. 2. 2.]]\n"
          ]
        }
      ]
    },
    {
      "cell_type": "code",
      "source": [
        "# A @ B\n",
        "\n",
        "print(A@B)"
      ],
      "metadata": {
        "colab": {
          "base_uri": "https://localhost:8080/"
        },
        "id": "Mtwu7kWrq8bu",
        "outputId": "a96f4c29-a3c0-4577-c1a0-97d3c1c895e2"
      },
      "execution_count": 53,
      "outputs": [
        {
          "output_type": "stream",
          "name": "stdout",
          "text": [
            "[38 44 50 56]\n"
          ]
        }
      ]
    },
    {
      "cell_type": "code",
      "source": [
        "print((B@B.T)-D)"
      ],
      "metadata": {
        "colab": {
          "base_uri": "https://localhost:8080/"
        },
        "id": "iVMWwKqCrDz1",
        "outputId": "bc2f847d-d173-4ffd-8a0a-05951f5a7370"
      },
      "execution_count": 55,
      "outputs": [
        {
          "output_type": "stream",
          "name": "stdout",
          "text": [
            "[[ 29.  70. 110.]\n",
            " [ 70. 173. 278.]\n",
            " [110. 278. 445.]]\n"
          ]
        }
      ]
    }
  ]
}